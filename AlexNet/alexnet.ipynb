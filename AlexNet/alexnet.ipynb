{
 "cells": [
  {
   "cell_type": "code",
   "execution_count": 8,
   "metadata": {},
   "outputs": [
    {
     "data": {
      "text/plain": [
       "device(type='cuda')"
      ]
     },
     "execution_count": 8,
     "metadata": {},
     "output_type": "execute_result"
    }
   ],
   "source": [
    "import torch.nn as nn\n",
    "\n",
    "device = torch.device('cuda') if torch.cuda.is_available() else torch.device('cpu')\n",
    "device"
   ]
  },
  {
   "cell_type": "code",
   "execution_count": 9,
   "metadata": {},
   "outputs": [],
   "source": [
    "class AlexNet(nn.Module):\n",
    "    def __init__(self, in_dim, n_class) -> None:\n",
    "        super().__init__()\n",
    "        # Conv layer\n",
    "        self.conv = nn.Sequential(\n",
    "            \n",
    "            # kernel: (in_dim x 11 x 11)\n",
    "            nn.Conv2d(\n",
    "                # the channel size\n",
    "                in_channels=in_dim,\n",
    "                out_channels=96,\n",
    "                kernel_size=11, \n",
    "                stride=4,\n",
    "                padding=0\n",
    "            ),\n",
    "            # feature map: (in_dim x 227 x 227) -> (96 x 55 x 55)\n",
    "\n",
    "            nn.BatchNorm2d(96),\n",
    "            nn.ReLU(True),\n",
    "            # parms: nn.MaxPool2d(kernel_size, stride)\n",
    "            nn.MaxPool2d(3, 2),\n",
    "            # feature map: (96 x 55 x 55) -> (96 x 27 x 27)\n",
    "\n",
    "            # kernel: (96 x 256 x 256)\n",
    "            nn.Conv2d(96, 256, 5, stride=1, padding=2),\n",
    "            # feature map: (96 x 27 x 27) -> (256 x 27 x 27)\n",
    "            nn.BatchNorm2d(256),\n",
    "            nn.ReLU(True),\n",
    "            nn.MaxPool2d(3, 2),\n",
    "            # feature map: (256 x 27 x 27) -> (256 x 13 x 13)\n",
    "\n",
    "            # kernel: (384 x 3 x 3)\n",
    "            nn.Conv2d(256, 384, 3, stride=1, padding=1),\n",
    "            # feature map: (256 x 13 x 13) -> (384 x 13 x 13)\n",
    "            nn.BatchNorm2d(384),\n",
    "            nn.ReLU(True),\n",
    "\n",
    "            # kernel: (384 x 3 x 3)\n",
    "            nn.Conv2d(384, 384, 3, stride=1, padding=1),\n",
    "            # feature map: (384 x 13 x 13) -> (384 x 13 x 13)\n",
    "            nn.BatchNorm2d(384),\n",
    "            nn.ReLU(True),\n",
    "\n",
    "            # kernel: (256 x 3 x 3)\n",
    "            nn.Conv2d(384, 256, 3, stride=1, padding=1),\n",
    "            # feature map: (384 x 13 x 13) -> (256 x 13 x 13)\n",
    "            nn.BatchNorm2d(256),\n",
    "            nn.ReLU(True),\n",
    "        \n",
    "            nn.MaxPool2d(3, 2)\n",
    "            # feature map: (256 x 13 x 13) -> (256 x 6 x 6)\n",
    "        ),\n",
    "        # full-connective layer\n",
    "        self.fc = nn.Sequential(\n",
    "            nn.Linear(9216, 4096),\n",
    "            nn.ReLU(True),\n",
    "            nn.Dropout(0.5),\n",
    "            nn.Linear(4096, 4096),\n",
    "            nn.ReLU(True),\n",
    "            nn.Dropout(0.5),\n",
    "            nn.Linear(4096, n_class)\n",
    "        )\n",
    "\n",
    "    def forward(self, x):\n",
    "        x = self.conv(x)\n",
    "        x = x.view(x.size(0), -1)\n",
    "        output = self.fc(x)\n",
    "        return output"
   ]
  },
  {
   "cell_type": "code",
   "execution_count": null,
   "metadata": {},
   "outputs": [],
   "source": []
  }
 ],
 "metadata": {
  "kernelspec": {
   "display_name": "Python 3.8.13 ('ML')",
   "language": "python",
   "name": "python3"
  },
  "language_info": {
   "codemirror_mode": {
    "name": "ipython",
    "version": 3
   },
   "file_extension": ".py",
   "mimetype": "text/x-python",
   "name": "python",
   "nbconvert_exporter": "python",
   "pygments_lexer": "ipython3",
   "version": "3.8.12"
  },
  "orig_nbformat": 4,
  "vscode": {
   "interpreter": {
    "hash": "a16324fbcc06d55f9e20a980762dbdaa491609e11c1edd01cedc38a99826464d"
   }
  }
 },
 "nbformat": 4,
 "nbformat_minor": 2
}
