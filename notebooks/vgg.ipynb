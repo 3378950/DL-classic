{
 "cells": [
  {
   "cell_type": "code",
   "execution_count": 1,
   "metadata": {},
   "outputs": [],
   "source": [
    "import torch \n",
    "import torch.nn as nn\n",
    "import torch.nn.functional as F\n",
    "from torchvision import datasets, transforms as T\n",
    "\n",
    "device = torch.device('cuda') if torch.cuda.is_available() else torch.device('cpu')"
   ]
  },
  {
   "cell_type": "code",
   "execution_count": 2,
   "metadata": {},
   "outputs": [],
   "source": [
    "def vgg_block(in_channels, out_channels, num_convs, kernel_size=3, stride=1, padding=1):\n",
    "    \"\"\"\n",
    "        in_channels: 输入通道数\n",
    "        out_channels: 输出通道数\n",
    "        num_convs: 卷积个数\n",
    "        kernel_size: 卷积核大小\n",
    "        stride: 步长\n",
    "        padding: 填充大小\n",
    "    \"\"\"\n",
    "    block = nn.Sequential()\n",
    "    for i in range(num_convs):\n",
    "        conv2d = nn.Sequential(\n",
    "                nn.Conv2d(in_channels, out_channels, kernel_size, stride, padding),\n",
    "                nn.BatchNorm2d(out_channels),\n",
    "                nn.ReLU(True)\n",
    "            )\n",
    "        block.add_module(f'conv2d_{i}',conv2d)\n",
    "        in_channels = out_channels\n",
    "    block.add_module(f'maxpool_{i}',nn.MaxPool2d(2, 2))\n",
    "    return block"
   ]
  },
  {
   "cell_type": "code",
   "execution_count": 3,
   "metadata": {},
   "outputs": [],
   "source": [
    "class VGG16(nn.Module):\n",
    "    def __init__(self, in_dim, n_class):\n",
    "        super().__init__()\n",
    "        self.features = nn.Sequential(\n",
    "            vgg_block(in_channels=in_dim, out_channels=64, num_convs=2),\n",
    "\n",
    "            vgg_block(in_channels=64, out_channels=128, num_convs=2),\n",
    "            \n",
    "            vgg_block(in_channels=128, out_channels=256, num_convs=3),\n",
    "            \n",
    "            vgg_block(in_channels=256, out_channels=512, num_convs=3),\n",
    "\n",
    "            vgg_block(in_channels=512, out_channels=512, num_convs=3)\n",
    "        )\n",
    "\n",
    "        self.classifier = nn.Sequential(\n",
    "            nn.Linear(512*7*7, 4096),\n",
    "            nn.ReLU(True),\n",
    "            nn.Dropout(),\n",
    "\n",
    "            nn.Linear(4096, 4096),\n",
    "            nn.ReLU(True),\n",
    "            nn.Dropout(),\n",
    "            \n",
    "            nn.Linear(4096, n_class)\n",
    "        )\n",
    "    def forward(self, x):\n",
    "        x = self.features(x)\n",
    "        x = x.view(x.size(0), -1)\n",
    "        x = self.classifier(x)\n"
   ]
  },
  {
   "cell_type": "code",
   "execution_count": 4,
   "metadata": {},
   "outputs": [],
   "source": [
    "# batch大小\n",
    "batch_size = 2\n",
    "\n",
    "# 训练集和测试集的数据增强\n",
    "train_transform = T.Compose([\n",
    "                    T.Resize((224,224)),\n",
    "                    T.RandomHorizontalFlip(0.5),\n",
    "                    T.ToTensor()\n",
    "])\n",
    "test_transform = T.Compose([\n",
    "                    T.Resize((224,224)),\n",
    "                    T.ToTensor()\n",
    "])\n",
    "\n",
    "# mnist数据集\n",
    "train_dataset = datasets.MNIST(root=r'data\\mnist', \n",
    "                                train = True, transform = train_transform, download = True)\n",
    "test_dataset = datasets.MNIST(root=r'data\\mnist', \n",
    "                                train = False, transform =test_transform)\n",
    "train_loader = torch.utils.data.DataLoader(dataset = train_dataset, batch_size = batch_size, shuffle = True)\n",
    "test_loader = torch.utils.data.DataLoader(dataset = test_dataset, batch_size = batch_size, shuffle = False)"
   ]
  },
  {
   "cell_type": "code",
   "execution_count": 5,
   "metadata": {},
   "outputs": [],
   "source": [
    "model = VGG16(1, 10).to(device)\n"
   ]
  },
  {
   "cell_type": "code",
   "execution_count": 6,
   "metadata": {},
   "outputs": [],
   "source": [
    "torch.manual_seed(1)\n",
    "# 学习率\n",
    "learning_rate = 1e-3\n",
    "# 训练轮数\n",
    "num_epochs = 3\n",
    "# 优化算法Adam = RMSProp + Momentum (梯度、lr两方面优化下降更快更稳)\n",
    "optimizer = torch.optim.Adam(model.parameters(), lr=learning_rate) \n",
    "# 交叉熵损失函数\n",
    "loss_fn = torch.nn.CrossEntropyLoss()  \n",
    "\n",
    "def evaluate_accuracy(data_iter,model):\n",
    "    '''\n",
    "        模型预测精度\n",
    "    '''\n",
    "    total = 0\n",
    "    correct = 0 \n",
    "    with torch.no_grad():\n",
    "        model.eval()\n",
    "        for images,labels in data_iter:\n",
    "            images = images.to(device)\n",
    "            labels = labels.to(device)\n",
    "            outputs = model(images)\n",
    "            _,predicts = torch.max(outputs.data, dim=1)\n",
    "            total += labels.size(0)\n",
    "            correct += (predicts == labels).cpu().sum()\n",
    "    return 100 * correct / total"
   ]
  },
  {
   "cell_type": "code",
   "execution_count": 7,
   "metadata": {},
   "outputs": [],
   "source": [
    "def train(data_loader=train_loader, optimizer=optimizer, loss_fn=loss_fn, epochs=num_epochs, device=device,):\n",
    "    for epoch in range(epochs):\n",
    "        print('current epoch = {}'.format(epoch))\n",
    "        for i,(images,labels) in enumerate(data_loader):\n",
    "            train_accuracy_total = 0\n",
    "            train_correct = 0\n",
    "            train_loss_sum = 0\n",
    "            model.train()\n",
    "            images = images.to(device)\n",
    "            labels = labels.to(device)\n",
    "            outputs = model(images)\n",
    "            loss = loss_fn(outputs,labels)   # 计算模型的损失\n",
    "            optimizer.zero_grad()            # 在做反向传播前先清除网络状态\n",
    "            loss.backward()                  # 损失值进行反向传播\n",
    "            optimizer.step()                 # 参数迭代更新\n",
    "\n",
    "            train_loss_sum += loss.item()    # item()返回的是tensor中的值，且只能返回单个值（标量），不能返回向量，使用返回loss等\n",
    "            _,predicts = torch.max(outputs.data,dim=1)  # 输出10类中最大的那个值\n",
    "            train_accuracy_total += labels.size(0)\n",
    "            train_correct += (predicts == labels).cpu().sum().item()\n",
    "        test_acc = evaluate_accuracy(test_loader,model)\n",
    "        print('epoch:{0},   loss:{1:.4f},   train accuracy:{2:.3f},  test accuracy:{3:.3f}'.format(\n",
    "                epoch, train_loss_sum/batch_size, train_correct/train_accuracy_total, test_acc))\n",
    "    print('------------finish training-------------')"
   ]
  },
  {
   "cell_type": "code",
   "execution_count": 8,
   "metadata": {},
   "outputs": [
    {
     "name": "stdout",
     "output_type": "stream",
     "text": [
      "current epoch = 0\n"
     ]
    },
    {
     "ename": "TypeError",
     "evalue": "cross_entropy_loss(): argument 'input' (position 1) must be Tensor, not NoneType",
     "output_type": "error",
     "traceback": [
      "\u001b[1;31m---------------------------------------------------------------------------\u001b[0m",
      "\u001b[1;31mTypeError\u001b[0m                                 Traceback (most recent call last)",
      "\u001b[1;32md:\\Personal File\\code\\DL-classic\\VGG\\vgg.ipynb Cell 8\u001b[0m in \u001b[0;36m<cell line: 1>\u001b[1;34m()\u001b[0m\n\u001b[1;32m----> <a href='vscode-notebook-cell:/d%3A/Personal%20File/code/DL-classic/VGG/vgg.ipynb#X12sZmlsZQ%3D%3D?line=0'>1</a>\u001b[0m train()\n",
      "\u001b[1;32md:\\Personal File\\code\\DL-classic\\VGG\\vgg.ipynb Cell 8\u001b[0m in \u001b[0;36mtrain\u001b[1;34m(data_loader, optimizer, loss_fn, epochs, device)\u001b[0m\n\u001b[0;32m     <a href='vscode-notebook-cell:/d%3A/Personal%20File/code/DL-classic/VGG/vgg.ipynb#X12sZmlsZQ%3D%3D?line=9'>10</a>\u001b[0m labels \u001b[39m=\u001b[39m labels\u001b[39m.\u001b[39mto(device)\n\u001b[0;32m     <a href='vscode-notebook-cell:/d%3A/Personal%20File/code/DL-classic/VGG/vgg.ipynb#X12sZmlsZQ%3D%3D?line=10'>11</a>\u001b[0m outputs \u001b[39m=\u001b[39m model(images)\n\u001b[1;32m---> <a href='vscode-notebook-cell:/d%3A/Personal%20File/code/DL-classic/VGG/vgg.ipynb#X12sZmlsZQ%3D%3D?line=11'>12</a>\u001b[0m loss \u001b[39m=\u001b[39m loss_fn(outputs,labels)   \u001b[39m# 计算模型的损失\u001b[39;00m\n\u001b[0;32m     <a href='vscode-notebook-cell:/d%3A/Personal%20File/code/DL-classic/VGG/vgg.ipynb#X12sZmlsZQ%3D%3D?line=12'>13</a>\u001b[0m optimizer\u001b[39m.\u001b[39mzero_grad()            \u001b[39m# 在做反向传播前先清除网络状态\u001b[39;00m\n\u001b[0;32m     <a href='vscode-notebook-cell:/d%3A/Personal%20File/code/DL-classic/VGG/vgg.ipynb#X12sZmlsZQ%3D%3D?line=13'>14</a>\u001b[0m loss\u001b[39m.\u001b[39mbackward()                  \u001b[39m# 损失值进行反向传播\u001b[39;00m\n",
      "File \u001b[1;32md:\\Environment\\miniconda3\\envs\\ML\\lib\\site-packages\\torch\\nn\\modules\\module.py:1110\u001b[0m, in \u001b[0;36mModule._call_impl\u001b[1;34m(self, *input, **kwargs)\u001b[0m\n\u001b[0;32m   1106\u001b[0m \u001b[39m# If we don't have any hooks, we want to skip the rest of the logic in\u001b[39;00m\n\u001b[0;32m   1107\u001b[0m \u001b[39m# this function, and just call forward.\u001b[39;00m\n\u001b[0;32m   1108\u001b[0m \u001b[39mif\u001b[39;00m \u001b[39mnot\u001b[39;00m (\u001b[39mself\u001b[39m\u001b[39m.\u001b[39m_backward_hooks \u001b[39mor\u001b[39;00m \u001b[39mself\u001b[39m\u001b[39m.\u001b[39m_forward_hooks \u001b[39mor\u001b[39;00m \u001b[39mself\u001b[39m\u001b[39m.\u001b[39m_forward_pre_hooks \u001b[39mor\u001b[39;00m _global_backward_hooks\n\u001b[0;32m   1109\u001b[0m         \u001b[39mor\u001b[39;00m _global_forward_hooks \u001b[39mor\u001b[39;00m _global_forward_pre_hooks):\n\u001b[1;32m-> 1110\u001b[0m     \u001b[39mreturn\u001b[39;00m forward_call(\u001b[39m*\u001b[39;49m\u001b[39minput\u001b[39;49m, \u001b[39m*\u001b[39;49m\u001b[39m*\u001b[39;49mkwargs)\n\u001b[0;32m   1111\u001b[0m \u001b[39m# Do not call functions when jit is used\u001b[39;00m\n\u001b[0;32m   1112\u001b[0m full_backward_hooks, non_full_backward_hooks \u001b[39m=\u001b[39m [], []\n",
      "File \u001b[1;32md:\\Environment\\miniconda3\\envs\\ML\\lib\\site-packages\\torch\\nn\\modules\\loss.py:1163\u001b[0m, in \u001b[0;36mCrossEntropyLoss.forward\u001b[1;34m(self, input, target)\u001b[0m\n\u001b[0;32m   1162\u001b[0m \u001b[39mdef\u001b[39;00m \u001b[39mforward\u001b[39m(\u001b[39mself\u001b[39m, \u001b[39minput\u001b[39m: Tensor, target: Tensor) \u001b[39m-\u001b[39m\u001b[39m>\u001b[39m Tensor:\n\u001b[1;32m-> 1163\u001b[0m     \u001b[39mreturn\u001b[39;00m F\u001b[39m.\u001b[39;49mcross_entropy(\u001b[39minput\u001b[39;49m, target, weight\u001b[39m=\u001b[39;49m\u001b[39mself\u001b[39;49m\u001b[39m.\u001b[39;49mweight,\n\u001b[0;32m   1164\u001b[0m                            ignore_index\u001b[39m=\u001b[39;49m\u001b[39mself\u001b[39;49m\u001b[39m.\u001b[39;49mignore_index, reduction\u001b[39m=\u001b[39;49m\u001b[39mself\u001b[39;49m\u001b[39m.\u001b[39;49mreduction,\n\u001b[0;32m   1165\u001b[0m                            label_smoothing\u001b[39m=\u001b[39;49m\u001b[39mself\u001b[39;49m\u001b[39m.\u001b[39;49mlabel_smoothing)\n",
      "File \u001b[1;32md:\\Environment\\miniconda3\\envs\\ML\\lib\\site-packages\\torch\\nn\\functional.py:2996\u001b[0m, in \u001b[0;36mcross_entropy\u001b[1;34m(input, target, weight, size_average, ignore_index, reduce, reduction, label_smoothing)\u001b[0m\n\u001b[0;32m   2994\u001b[0m \u001b[39mif\u001b[39;00m size_average \u001b[39mis\u001b[39;00m \u001b[39mnot\u001b[39;00m \u001b[39mNone\u001b[39;00m \u001b[39mor\u001b[39;00m reduce \u001b[39mis\u001b[39;00m \u001b[39mnot\u001b[39;00m \u001b[39mNone\u001b[39;00m:\n\u001b[0;32m   2995\u001b[0m     reduction \u001b[39m=\u001b[39m _Reduction\u001b[39m.\u001b[39mlegacy_get_string(size_average, reduce)\n\u001b[1;32m-> 2996\u001b[0m \u001b[39mreturn\u001b[39;00m torch\u001b[39m.\u001b[39;49m_C\u001b[39m.\u001b[39;49m_nn\u001b[39m.\u001b[39;49mcross_entropy_loss(\u001b[39minput\u001b[39;49m, target, weight, _Reduction\u001b[39m.\u001b[39;49mget_enum(reduction), ignore_index, label_smoothing)\n",
      "\u001b[1;31mTypeError\u001b[0m: cross_entropy_loss(): argument 'input' (position 1) must be Tensor, not NoneType"
     ]
    }
   ],
   "source": [
    "train()"
   ]
  },
  {
   "cell_type": "code",
   "execution_count": null,
   "metadata": {},
   "outputs": [],
   "source": []
  }
 ],
 "metadata": {
  "kernelspec": {
   "display_name": "Python 3.8.12 ('ML')",
   "language": "python",
   "name": "python3"
  },
  "language_info": {
   "codemirror_mode": {
    "name": "ipython",
    "version": 3
   },
   "file_extension": ".py",
   "mimetype": "text/x-python",
   "name": "python",
   "nbconvert_exporter": "python",
   "pygments_lexer": "ipython3",
   "version": "3.8.12"
  },
  "orig_nbformat": 4,
  "vscode": {
   "interpreter": {
    "hash": "a16324fbcc06d55f9e20a980762dbdaa491609e11c1edd01cedc38a99826464d"
   }
  }
 },
 "nbformat": 4,
 "nbformat_minor": 2
}
